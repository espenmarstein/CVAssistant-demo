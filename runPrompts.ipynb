{
 "cells": [
  {
   "cell_type": "code",
   "execution_count": null,
   "metadata": {},
   "outputs": [],
   "source": [
    "import tiktoken\n",
    "#gpt-4: cl100k_base,\n",
    "#gpt-3.5-turbo: cl100k_base,\n",
    "# davinci: \"r50k_base\"\n",
    "encoding = tiktoken.encoding_for_model(\"gpt-4\")\n",
    "\n",
    "text = \"We need to stop anthropomorphizing ChatGPT.\"\n",
    "print(f\"text: {text}\")\n",
    "\n",
    "token_integers = encoding.encode(text)\n",
    "print(f\"total number of tokens: {encoding.n_vocab}\")\n",
    "\n",
    "print(f\"token integers: {token_integers}\")\n",
    "token_strings = [encoding.decode_single_token_bytes(token) for token in token_integers]\n",
    "print(f\"token strings: {token_strings}\")\n",
    "print(f\"number of tokens in text: {len(token_integers)}\")\n",
    "\n",
    "encoded_decoded_text = encoding.decode(token_integers)\n",
    "print(f\"encoded-decoded text: {encoded_decoded_text}\")"
   ]
  },
  {
   "cell_type": "code",
   "execution_count": 8,
   "metadata": {},
   "outputs": [
    {
     "ename": "AttributeError",
     "evalue": "module 'openai' has no attribute 'ChatCompletion'",
     "output_type": "error",
     "traceback": [
      "\u001b[1;31m---------------------------------------------------------------------------\u001b[0m",
      "\u001b[1;31mAttributeError\u001b[0m                            Traceback (most recent call last)",
      "Cell \u001b[1;32mIn[8], line 42\u001b[0m\n\u001b[0;32m     35\u001b[0m     output \u001b[39m=\u001b[39m openai\u001b[39m.\u001b[39mChatCompletion\u001b[39m.\u001b[39mcreate(\n\u001b[0;32m     36\u001b[0m         engine\u001b[39m=\u001b[39mengine,\n\u001b[0;32m     37\u001b[0m         api_version\u001b[39m=\u001b[39mapi_version,\n\u001b[0;32m     38\u001b[0m         messages\u001b[39m=\u001b[39mmessages,\n\u001b[0;32m     39\u001b[0m         functions\u001b[39m=\u001b[39mfunctions,\n\u001b[0;32m     40\u001b[0m     )\n\u001b[0;32m     41\u001b[0m \u001b[39melse\u001b[39;00m:\n\u001b[1;32m---> 42\u001b[0m     output \u001b[39m=\u001b[39m openai\u001b[39m.\u001b[39;49mChatCompletion\u001b[39m.\u001b[39mcreate(\n\u001b[0;32m     43\u001b[0m         engine\u001b[39m=\u001b[39mengine,\n\u001b[0;32m     44\u001b[0m         api_version\u001b[39m=\u001b[39mapi_version,\n\u001b[0;32m     45\u001b[0m         messages\u001b[39m=\u001b[39mmessages\n\u001b[0;32m     46\u001b[0m     )\n\u001b[0;32m     48\u001b[0m response \u001b[39m=\u001b[39m jsonify(output)\n",
      "\u001b[1;31mAttributeError\u001b[0m: module 'openai' has no attribute 'ChatCompletion'"
     ]
    }
   ],
   "source": [
    "\n",
    "import openai    \n",
    "import os\n",
    "\n",
    "openai.api_key = os.getenv(\"AZURE_OPENAI_KEY\")\n",
    "openai.api_base = os.getenv(\n",
    "    \"AZURE_OPENAI_ENDPOINT\")  # your endpoint should look like the following https://YOUR_RESOURCE_NAME.openai.azure.com/\n",
    "openai.api_type = os.getenv('API_TYPE')\n",
    "openai.api_version = '2023-05-15'  # this may change in the future\n",
    "\n",
    "deployment_name = os.getenv('DEPLOYMENT_NAME')\n",
    "\n",
    "import json\n",
    "\n",
    "file_path = \"RAG Retrival Augmented Generation\"\n",
    "with open(file_path, 'r') as file:\n",
    "    file_contents = file.read()\n",
    "\n",
    "try:\n",
    "    json_data = json.loads(file_contents)\n",
    "except json.JSONDecodeError as e:\n",
    "    print(f\"Error parsing JSON: {e}\")\n",
    "\n",
    "engine = \"gpt-turbo-16k\"\n",
    "api_version = \"2023-07-01-preview\"\n",
    "messages = '[{' \\\n",
    "            '\"role\": \"user\",' \\\n",
    "            f'\"content\": \"{file_contents}\"' \\\n",
    "            '}]'\n",
    "functions = None\n",
    "if not all([engine, api_version, messages]):\n",
    "    raise BadRequest(\"Missing required fields in the received JSON data\")\n",
    "\n",
    "# Check if 'functions' was provided in the request\n",
    "if functions:\n",
    "    output = openai.ChatCompletion.create(\n",
    "        engine=engine,\n",
    "        api_version=api_version,\n",
    "        messages=messages,\n",
    "        functions=functions,\n",
    "    )\n",
    "else:\n",
    "    output = openai.ChatCompletion.create(\n",
    "        engine=engine,\n",
    "        api_version=api_version,\n",
    "        messages=messages\n",
    "    )\n",
    "\n",
    "response = jsonify(output)"
   ]
  }
 ],
 "metadata": {
  "kernelspec": {
   "display_name": "Python 3",
   "language": "python",
   "name": "python3"
  },
  "language_info": {
   "codemirror_mode": {
    "name": "ipython",
    "version": 3
   },
   "file_extension": ".py",
   "mimetype": "text/x-python",
   "name": "python",
   "nbconvert_exporter": "python",
   "pygments_lexer": "ipython3",
   "version": "3.11.2"
  },
  "orig_nbformat": 4
 },
 "nbformat": 4,
 "nbformat_minor": 2
}
