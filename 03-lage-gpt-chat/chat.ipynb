{
 "cells": [
  {
   "cell_type": "markdown",
   "metadata": {},
   "source": [
    "# Lage en GPT chat"
   ]
  },
  {
   "cell_type": "code",
   "execution_count": null,
   "metadata": {},
   "outputs": [],
   "source": [
    "from openai import OpenAI\n",
    "\n",
    "client = OpenAI()\n",
    "\n",
    "messages = [\n",
    "  # ???\n",
    "]\n",
    "\n",
    "while True:\n",
    "  message = input(\"Deg: \")\n",
    "\n",
    "  if message == \"\":\n",
    "    break\n",
    "\n",
    "  messages.append(\n",
    "    # ???\n",
    "  )\n",
    "\n",
    "  print(\"Sender: \", message)\n",
    "\n",
    "  response = None # ???\n",
    "  content = \"\" # ???\n",
    "\n",
    "  print(\"Svar: \", content)\n",
    "\n",
    "  messages.append(\n",
    "    # ???\n",
    "  )\n"
   ]
  },
  {
   "cell_type": "markdown",
   "metadata": {},
   "source": [
    "# Ferdig kode"
   ]
  },
  {
   "cell_type": "code",
   "execution_count": 1,
   "metadata": {},
   "outputs": [
    {
     "name": "stdout",
     "output_type": "stream",
     "text": [
      "Sender:  hey\n",
      "Svar:  Hello! How can I assist you today?\n"
     ]
    }
   ],
   "source": [
    "from openai import OpenAI\n",
    "\n",
    "client = OpenAI()\n",
    "\n",
    "messages = [{\n",
    "  \"role\": \"system\",\n",
    "  \"content\": \"You are a helpful assistant.\",\n",
    "}]\n",
    "\n",
    "while True:\n",
    "  message = input(\"Deg: \")\n",
    "\n",
    "  if message == \"\":\n",
    "    break\n",
    "\n",
    "  messages.append({\n",
    "    \"role\": \"user\",\n",
    "    \"content\": message,\n",
    "  })\n",
    "\n",
    "  print(\"Sender: \", message)\n",
    "\n",
    "  response = client.chat.completions.create(\n",
    "    model=\"gpt-3.5-turbo-0613\",\n",
    "    messages=messages,\n",
    "  )\n",
    "\n",
    "  content = response.choices[0].message.content\n",
    "  print(\"Svar: \", content)\n",
    "\n",
    "  messages.append({\n",
    "    \"role\": \"assistant\",\n",
    "    \"content\": content,\n",
    "  })\n"
   ]
  },
  {
   "cell_type": "markdown",
   "metadata": {},
   "source": [
    "## Modifisere svar fra assistenten"
   ]
  },
  {
   "cell_type": "code",
   "execution_count": 2,
   "metadata": {},
   "outputs": [
    {
     "name": "stdout",
     "output_type": "stream",
     "text": [
      "Svar:  Unnskyld, jeg har gjort en feil. Trondheim ligger i Norge.\n"
     ]
    }
   ],
   "source": [
    "from openai import OpenAI\n",
    "\n",
    "client = OpenAI()\n",
    "\n",
    "messages = [\n",
    "  {\n",
    "    \"role\": \"system\",\n",
    "    \"content\": \"You are a helpful assistant.\",\n",
    "  },\n",
    "  {\n",
    "    \"role\": \"user\",\n",
    "    \"content\": \"I hvilket land ligger Trondheim?\",\n",
    "  },\n",
    "  {\n",
    "    \"role\": \"assistant\",\n",
    "    \"content\": \"Trondheim ligger i Spania.\",\n",
    "  },\n",
    "  {\n",
    "    \"role\": \"user\",\n",
    "    \"content\": \"Er du helt sikker?\",\n",
    "  },\n",
    "]\n",
    "\n",
    "response = client.chat.completions.create(\n",
    "  model=\"gpt-3.5-turbo-0613\",\n",
    "  messages=messages,\n",
    ")\n",
    "\n",
    "content = response.choices[0].message.content\n",
    "print(\"Svar: \", content)\n"
   ]
  },
  {
   "cell_type": "markdown",
   "metadata": {},
   "source": [
    "# Alt er egentlig bare tekst"
   ]
  },
  {
   "cell_type": "code",
   "execution_count": 3,
   "metadata": {},
   "outputs": [
    {
     "name": "stdout",
     "output_type": "stream",
     "text": [
      "Svar:  Nei, jeg er ikke helt sikker. Trondheim ligger i Norge, ikke i Spania. Beklager for feilinformasjonen!\n"
     ]
    }
   ],
   "source": [
    "from openai import OpenAI\n",
    "\n",
    "client = OpenAI()\n",
    "\n",
    "prompt = \"\"\"\n",
    "system: You are a helpful assistant.\n",
    "\n",
    "user: I hvilket land ligger Trondheim?\n",
    "\n",
    "assistant: Trondheim ligger i Spania.\n",
    "\n",
    "user: Er du helt sikker?\n",
    "\n",
    "assistant:\n",
    "\"\"\"\n",
    "\n",
    "response = client.completions.create(\n",
    "  model=\"text-davinci-003\",\n",
    "  prompt=prompt,\n",
    "  max_tokens=100,\n",
    ")\n",
    "\n",
    "content = response.choices[0].text\n",
    "print(\"Svar: \", content)\n"
   ]
  }
 ],
 "metadata": {
  "kernelspec": {
   "display_name": "Python 3",
   "language": "python",
   "name": "python3"
  },
  "language_info": {
   "codemirror_mode": {
    "name": "ipython",
    "version": 3
   },
   "file_extension": ".py",
   "mimetype": "text/x-python",
   "name": "python",
   "nbconvert_exporter": "python",
   "pygments_lexer": "ipython3",
   "version": "3.11.5"
  },
  "orig_nbformat": 4
 },
 "nbformat": 4,
 "nbformat_minor": 2
}
