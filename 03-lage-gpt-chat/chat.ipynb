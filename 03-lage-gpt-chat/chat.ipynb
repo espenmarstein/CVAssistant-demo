{
 "cells": [
  {
   "cell_type": "markdown",
   "metadata": {},
   "source": [
    "# Lage en GPT chat"
   ]
  },
  {
   "cell_type": "code",
   "execution_count": null,
   "metadata": {},
   "outputs": [],
   "source": [
    "import openai\n",
    "import os\n",
    "\n",
    "openai.api_key = os.getenv(\"OPENAI_API_KEY\")\n",
    "\n",
    "messages = [\n",
    "  # ???\n",
    "]\n",
    "\n",
    "while True:\n",
    "  message = input(\"Deg: \")\n",
    "\n",
    "  if message == \"\":\n",
    "    break\n",
    "\n",
    "  messages.append(\n",
    "    # ???\n",
    "  )\n",
    "\n",
    "  print(\"Sender: \", message)\n",
    "\n",
    "  response = None # ???\n",
    "  content = \"\" # ???\n",
    "\n",
    "  print(\"Svar: \", content)\n",
    "\n",
    "  messages.append(\n",
    "    # ???\n",
    "  )\n"
   ]
  },
  {
   "cell_type": "markdown",
   "metadata": {},
   "source": [
    "# Ferdig kode"
   ]
  },
  {
   "cell_type": "code",
   "execution_count": 5,
   "metadata": {},
   "outputs": [
    {
     "name": "stdout",
     "output_type": "stream",
     "text": [
      "Sender:  Hey\n",
      "Svar:  Hello! How can I assist you today?\n",
      "Sender:  Gi meg de 3 beste lokasjonene i Trondheim\n",
      "Svar:  Selvfølgelig! Her er tre av de beste stedene å besøke i Trondheim:\n",
      "\n",
      "1. Nidarosdomen: Dette er en imponerende katedral og et ikonisk landemerke i byen. Nidarosdomen er et viktig religiøst og historisk sted, og en tur inne i katedralen er absolutt verdt det.\n",
      "\n",
      "2. Gamle Bybro: Denne vakre broen er et viktig symbol på Trondheim. Den forbinder Bakklandet, et sjarmerende område med fargerike trehus, med bysentrumet. Ta en spasertur over brua og nyt den fantastiske utsikten over Nidelven.\n",
      "\n",
      "3. Trondheim Kunstmuseum: Dette museet er et flott sted å utforske kunst og kultur. Museet huser en imponerende samling av kunstverk og har regelmessige utstillinger som viser både norske og internasjonale kunstnere.\n",
      "\n",
      "Disse er bare noen av de mange flotte stedene å besøke i Trondheim. Byen har mye å by på, enten det er historie, kultur, mat eller natur du er interessert i.\n"
     ]
    }
   ],
   "source": [
    "import openai\n",
    "import os\n",
    "\n",
    "openai.api_key = os.getenv(\"OPENAI_API_KEY\")\n",
    "\n",
    "messages = [{\n",
    "  \"role\": \"system\",\n",
    "  \"content\": \"You are a helpful assistant.\",\n",
    "}]\n",
    "\n",
    "while True:\n",
    "  message = input(\"Deg: \")\n",
    "\n",
    "  if message == \"\":\n",
    "    break\n",
    "\n",
    "  messages.append({\n",
    "    \"role\": \"user\",\n",
    "    \"content\": message,\n",
    "  })\n",
    "\n",
    "  print(\"Sender: \", message)\n",
    "\n",
    "  response = openai.ChatCompletion.create(\n",
    "    model=\"gpt-3.5-turbo-0613\",\n",
    "    messages=messages,\n",
    "  )\n",
    "\n",
    "  content = response.choices[0].message.content\n",
    "  print(\"Svar: \", content)\n",
    "\n",
    "  messages.append({\n",
    "    \"role\": \"assistant\",\n",
    "    \"content\": content,\n",
    "  })\n"
   ]
  },
  {
   "cell_type": "markdown",
   "metadata": {},
   "source": [
    "## Modifisere svar fra assistenten"
   ]
  },
  {
   "cell_type": "code",
   "execution_count": 2,
   "metadata": {},
   "outputs": [
    {
     "name": "stdout",
     "output_type": "stream",
     "text": [
      "Svar:  Unnskyld for feilen i mitt tidligere svar. Trondheim ligger faktisk i Norge. Det er en by som ligger i Trøndelag fylke, i den sentrale delen av landet.\n"
     ]
    }
   ],
   "source": [
    "import openai\n",
    "import os\n",
    "\n",
    "openai.api_key = os.getenv(\"OPENAI_API_KEY\")\n",
    "\n",
    "messages = [\n",
    "  {\n",
    "    \"role\": \"system\",\n",
    "    \"content\": \"You are a helpful assistant.\",\n",
    "  },\n",
    "  {\n",
    "    \"role\": \"user\",\n",
    "    \"content\": \"I hvilket land ligger Trondheim?\",\n",
    "  },\n",
    "  {\n",
    "    \"role\": \"assistant\",\n",
    "    \"content\": \"Trondheim ligger i Spania.\",\n",
    "  },\n",
    "  {\n",
    "    \"role\": \"user\",\n",
    "    \"content\": \"Er du helt sikker?\",\n",
    "  },\n",
    "]\n",
    "\n",
    "response = openai.ChatCompletion.create(\n",
    "  model=\"gpt-3.5-turbo-0613\",\n",
    "  messages=messages,\n",
    ")\n",
    "\n",
    "content = response.choices[0].message.content\n",
    "print(\"Svar: \", content)\n"
   ]
  }
 ],
 "metadata": {
  "kernelspec": {
   "display_name": "Python 3",
   "language": "python",
   "name": "python3"
  },
  "language_info": {
   "codemirror_mode": {
    "name": "ipython",
    "version": 3
   },
   "file_extension": ".py",
   "mimetype": "text/x-python",
   "name": "python",
   "nbconvert_exporter": "python",
   "pygments_lexer": "ipython3",
   "version": "3.9.6"
  },
  "orig_nbformat": 4
 },
 "nbformat": 4,
 "nbformat_minor": 2
}
