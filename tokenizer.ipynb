{
 "cells": [
  {
   "cell_type": "code",
   "execution_count": null,
   "metadata": {},
   "outputs": [],
   "source": [
    "import tiktoken\n",
    "#gpt-4: cl100k_base,\n",
    "#gpt-3.5-turbo: cl100k_base,\n",
    "# davinci: \"r50k_base\"\n",
    "encoding = tiktoken.encoding_for_model(\"gpt-4\")\n",
    "\n",
    "text = \"We need to stop anthropomorphizing ChatGPT.\"\n",
    "print(f\"text: {text}\")\n",
    "\n",
    "token_integers = encoding.encode(text)\n",
    "print(f\"total number of tokens: {encoding.n_vocab}\")\n",
    "\n",
    "print(f\"token integers: {token_integers}\")\n",
    "token_strings = [encoding.decode_single_token_bytes(token) for token in token_integers]\n",
    "print(f\"token strings: {token_strings}\")\n",
    "print(f\"number of tokens in text: {len(token_integers)}\")\n",
    "\n",
    "encoded_decoded_text = encoding.decode(token_integers)\n",
    "print(f\"encoded-decoded text: {encoded_decoded_text}\")"
   ]
  }
 ],
 "metadata": {
  "language_info": {
   "name": "python"
  },
  "orig_nbformat": 4
 },
 "nbformat": 4,
 "nbformat_minor": 2
}
